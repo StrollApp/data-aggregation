{
 "cells": [
  {
   "cell_type": "code",
   "execution_count": 5,
   "id": "prepared-mother",
   "metadata": {},
   "outputs": [],
   "source": [
    "import numpy as np\n",
    "import pandas as pd"
   ]
  },
  {
   "cell_type": "code",
   "execution_count": 6,
   "id": "possible-underground",
   "metadata": {},
   "outputs": [],
   "source": [
    "street_data = {}"
   ]
  },
  {
   "cell_type": "code",
   "execution_count": 8,
   "id": "digital-drive",
   "metadata": {},
   "outputs": [
    {
     "name": "stdout",
     "output_type": "stream",
     "text": [
      "4\n"
     ]
    }
   ],
   "source": [
    "undefined = [-1 for b in range(len(street_data))]\n",
    "nan = [None for b in range(len(street_data))]\n",
    "features = ['crime_count', 'tree_count', 'light_count', 'business_count', 'signal_count', 'pavement_width', 'street_type', \n",
    "            'crime_ratio', 'tree_ratio', 'light_ratio', 'business_ratio', 'signal_ratio']\n",
    "for feature in features:\n",
    "    street_data[feature] = nan\n"
   ]
  },
  {
   "cell_type": "code",
   "execution_count": 1,
   "id": "private-stupid",
   "metadata": {},
   "outputs": [
    {
     "name": "stdout",
     "output_type": "stream",
     "text": [
      "1234\n",
      "321\n"
     ]
    }
   ],
   "source": [
    "### gets the numerical prefix (address) of a string\n",
    "def getNumber(address):\n",
    "    address = str(address)\n",
    "    if address and address[0].isdigit():\n",
    "        num = 0\n",
    "        i = 0\n",
    "        while address[i].isdigit():\n",
    "            num = num*10 + int(address[i])\n",
    "            i += 1\n",
    "    return num"
   ]
  },
  {
   "cell_type": "code",
   "execution_count": null,
   "id": "educational-ministry",
   "metadata": {},
   "outputs": [],
   "source": [
    "### gets the street name\n",
    "def getStreet(address):\n",
    "    address = str(address)\n",
    "    endArr = [' ST', ' BLVD', ' RD', ' AVE', ' PL', ' WAY', ' DR', ' WALK', ' LN', ' OVRPAS', 'CIR']\n",
    "    numberLen = len(str(getNumber(address)))+1\n",
    "    adr = address[numberLen:]\n",
    "    adr = adr.upper()\n",
    "    for b in endArr:\n",
    "        if b in adr:\n",
    "            adr = adr.replace(b,'')\n",
    "    adr = adr.replace('BLOCK', '')\n",
    "    adr = adr.replace(' ', '')\n",
    "    return adr"
   ]
  },
  {
   "cell_type": "code",
   "execution_count": null,
   "id": "surprising-exemption",
   "metadata": {},
   "outputs": [],
   "source": []
  }
 ],
 "metadata": {
  "kernelspec": {
   "display_name": "Python 3 (ipykernel)",
   "language": "python",
   "name": "python3"
  },
  "language_info": {
   "codemirror_mode": {
    "name": "ipython",
    "version": 3
   },
   "file_extension": ".py",
   "mimetype": "text/x-python",
   "name": "python",
   "nbconvert_exporter": "python",
   "pygments_lexer": "ipython3",
   "version": "3.8.3"
  }
 },
 "nbformat": 4,
 "nbformat_minor": 5
}
