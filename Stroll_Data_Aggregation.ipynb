{
 "cells": [
  {
   "cell_type": "code",
   "execution_count": null,
   "id": "prepared-mother",
   "metadata": {},
   "outputs": [],
   "source": [
    "import numpy as np\n",
    "import pandas as pd"
   ]
  },
  {
   "cell_type": "code",
   "execution_count": null,
   "id": "possible-underground",
   "metadata": {},
   "outputs": [],
   "source": [
    "street_data = pd.read_csv('Street_Centerlines.csv') # TODO: find complete street data with latitude and longitude\n",
    "street_data = street_data[street_data['CITYR' == 'Berkeley']]\n",
    "intersection_data = None # TODO: get intersection data"
   ]
  },
  {
   "cell_type": "code",
   "execution_count": null,
   "id": "digital-drive",
   "metadata": {},
   "outputs": [],
   "source": [
    "undefined = [-1 for b in range(len(street_data))]\n",
    "nan = [None for b in range(len(street_data))]\n",
    "features = ['crime_count', \n",
    "            'tree_count', \n",
    "            'light_count', \n",
    "            'business_count', \n",
    "            'signal_count', \n",
    "            'pavement_width', \n",
    "            'street_type', \n",
    "            'crime_ratio', \n",
    "            'tree_ratio', \n",
    "            'light_ratio', \n",
    "            'business_ratio', \n",
    "            'signal_ratio', \n",
    "            'start_point', \n",
    "            'end_point',\n",
    "            'region']\n",
    "for feature in features:\n",
    "    street_data[feature] = nan\n",
    "    \n",
    "intersection_data['latitude'] = [None for b in range(len(intersection_data))]\n",
    "intersection_data['longitude'] = [None for b in range(len(intersection_data))]"
   ]
  },
  {
   "cell_type": "code",
   "execution_count": null,
   "id": "innovative-services",
   "metadata": {},
   "outputs": [],
   "source": [
    "# data will be split into regions to make querying faster\n",
    "# relevant regions to a point will include the region the point is in along with the 8 surrounding regions\n",
    "# not used for now, but may use later\n",
    "\n",
    "def get_north_region(region):\n",
    "    pass\n",
    "\n",
    "def get_south_region(region):\n",
    "    pass\n",
    "\n",
    "def get_east_region(region):\n",
    "    pass\n",
    "\n",
    "def get_west_region(region):\n",
    "    pass\n",
    "\n",
    "def get_northwest_region(region):\n",
    "    pass\n",
    "\n",
    "def get_northeast_region(region):\n",
    "    pass\n",
    "\n",
    "def get_southwest_region(region):\n",
    "    pass\n",
    "\n",
    "def get_southeast_region(region):\n",
    "    pass"
   ]
  },
  {
   "cell_type": "code",
   "execution_count": null,
   "id": "private-stupid",
   "metadata": {},
   "outputs": [],
   "source": [
    "# gets the numerical prefix (address) of a string\n",
    "def get_number(address):\n",
    "    address = str(address)\n",
    "    if address and address[0].isdigit():\n",
    "        num = 0\n",
    "        i = 0\n",
    "        while address[i].isdigit():\n",
    "            num = num*10 + int(address[i])\n",
    "            i += 1\n",
    "    return num"
   ]
  },
  {
   "cell_type": "code",
   "execution_count": null,
   "id": "educational-ministry",
   "metadata": {},
   "outputs": [],
   "source": [
    "# gets the street name\n",
    "def get_street(address):\n",
    "    address = str(address)\n",
    "    endArr = [' ST', ' BLVD', ' RD', ' AVE', ' PL', ' WAY', ' DR', ' WALK', ' LN', ' OVRPAS', 'CIR']\n",
    "    numberLen = len(str(get_number(address)))+1\n",
    "    adr = address[numberLen:]\n",
    "    adr = adr.upper()\n",
    "    for b in endArr:\n",
    "        if b in adr:\n",
    "            adr = adr.replace(b,'')\n",
    "    adr = adr.replace('BLOCK', '')\n",
    "    adr = adr.replace(' ', '')\n",
    "    return adr"
   ]
  },
  {
   "cell_type": "code",
   "execution_count": null,
   "id": "surprising-exemption",
   "metadata": {},
   "outputs": [],
   "source": [
    "# gets the street segments corresponding to an address\n",
    "# TODO: some features may not have a street number/name, figure out implementation\n",
    "def get_block(address):\n",
    "    number = get_number(address)\n",
    "    if number != 0:\n",
    "        street = get_street(address)\n",
    "        indices = street_data.index[street_data['name'] == street].tolist()\n",
    "        index = []\n",
    "        for edge_segment in indices:\n",
    "            start_point = toInt(street_data.at[edge_segment, 'start_point'])\n",
    "            end_point = toInt(street_data.at[edge_segment, 'end_point'])\n",
    "            if start_point <= number <= end_point or end_point <= number <= start_point:\n",
    "                index.add(edge_segment)\n",
    "    return index\n",
    "\n",
    "def get_distance_btwn_points(x1, y1, x2, y2):\n",
    "    return sqrt((x1 - x2) ** 2 + (y1 - y2) ** 2)\n",
    "\n",
    "# finds distance between (x3, y3) to line defined by (x1, y1) and (x2, y2)\n",
    "def get_distance_btwn_point_and_line(x1, y1, x2, y2, x3, y3):\n",
    "    p1 = np.array([x1, y1])\n",
    "    p2 = np.array([x2, y2])\n",
    "    p3 = np.array([x3, y3])\n",
    "    return norm(np.cross(p2 - p1, p1 - p3)) / norm(p2 - p1)\n",
    "\n",
    "# gets the street segment closest to the latitude and longitude of a given point\n",
    "# current implementation will assume streets are straight lines and the earth is flat\n",
    "# also current implementation goes through all edges which is slow, implement regions in the future\n",
    "def get_block_from_coordinates(latitude, longitude):\n",
    "    min_distance = float('inf')\n",
    "    min_street_index = -1\n",
    "    for index, row in street_data.iterrows():\n",
    "        start_intersection = row['start_point']\n",
    "        end_intersection = row['end_point']\n",
    "        current_distance = None\n",
    "        if start_intersection is not None and end_intersection is None:\n",
    "            start_latitude = intersection_data.at[start_intersection, 'latitude']\n",
    "            start_longitude = intersection_data.at[start_intersection, 'longitude']\n",
    "            current_distance = get_distance_btwn_points(start_latitude, start_longitude, latitude, longitude)\n",
    "        elif start_intersection is None and end_intersection is not None:\n",
    "            end_latitude = intersection_data.at[end_intersection, 'latitude']\n",
    "            end_longitude = intersection_data.at[end_intersection, 'longitude']\n",
    "            current_distance = get_distance_btwn_points(end_latitude, end_longitude, latitude, longitude)\n",
    "        elif start_intersection is not None and end_intersection is not None:\n",
    "            start_latitude = intersection_data.at[start_intersection, 'latitude']\n",
    "            start_longitude = intersection_data.at[start_intersection, 'longitude']\n",
    "            end_latitude = intersection_data.at[end_intersection, 'latitude']\n",
    "            end_longitude = intersection_data.at[end_intersection, 'longitude']\n",
    "            current_distance = get_distance_btwn_point_and_line(\n",
    "                start_latitude, start_longitude, end_latitude, end_longitude, latitude, longitude)\n",
    "        if current_distance is not None and current_distance < min_distance:\n",
    "            min_distance = current_distance\n",
    "            min_street_index = index\n",
    "    return min_street_index"
   ]
  },
  {
   "cell_type": "code",
   "execution_count": null,
   "id": "assigned-madonna",
   "metadata": {},
   "outputs": [],
   "source": [
    "def get_edge_index(address):\n",
    "    index = get_block(address)\n",
    "    return [(street_data[ind, 'start_point'], street_data[ind, 'end_point']) for ind in index]"
   ]
  },
  {
   "cell_type": "code",
   "execution_count": null,
   "id": "informative-animal",
   "metadata": {},
   "outputs": [],
   "source": [
    "# increments the value of parameter at the street segment containing address\n",
    "def update_street_data(address, parameter, from_coords = False):\n",
    "    index = get_block(address)\n",
    "    if index:\n",
    "        for block in index:\n",
    "            street_data.at[block, parameter] += 1"
   ]
  },
  {
   "cell_type": "code",
   "execution_count": null,
   "id": "hairy-discovery",
   "metadata": {},
   "outputs": [],
   "source": [
    "# fills intersections with data\n",
    "def populate_intersections():\n",
    "    pass"
   ]
  },
  {
   "cell_type": "code",
   "execution_count": null,
   "id": "linear-massachusetts",
   "metadata": {},
   "outputs": [],
   "source": [
    "# sets start index and end index for each street segment to intersection indices\n",
    "def set_intersection_indices():\n",
    "    pass"
   ]
  }
 ],
 "metadata": {
  "kernelspec": {
   "display_name": "Python 3 (ipykernel)",
   "language": "python",
   "name": "python3"
  },
  "language_info": {
   "codemirror_mode": {
    "name": "ipython",
    "version": 3
   },
   "file_extension": ".py",
   "mimetype": "text/x-python",
   "name": "python",
   "nbconvert_exporter": "python",
   "pygments_lexer": "ipython3",
   "version": "3.8.3"
  }
 },
 "nbformat": 4,
 "nbformat_minor": 5
}
