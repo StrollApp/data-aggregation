{
 "cells": [
  {
   "cell_type": "code",
   "execution_count": 3,
   "metadata": {},
   "outputs": [
    {
     "ename": "ModuleNotFoundError",
     "evalue": "No module named 'overpy'",
     "output_type": "error",
     "traceback": [
      "\u001b[0;31m---------------------------------------------------------------------------\u001b[0m",
      "\u001b[0;31mModuleNotFoundError\u001b[0m                       Traceback (most recent call last)",
      "\u001b[0;32m<ipython-input-3-bb4987b938a0>\u001b[0m in \u001b[0;36m<module>\u001b[0;34m\u001b[0m\n\u001b[0;32m----> 1\u001b[0;31m \u001b[0;32mimport\u001b[0m \u001b[0moverpy\u001b[0m\u001b[0;34m\u001b[0m\u001b[0;34m\u001b[0m\u001b[0m\n\u001b[0m\u001b[1;32m      2\u001b[0m \u001b[0;34m\u001b[0m\u001b[0m\n\u001b[1;32m      3\u001b[0m \u001b[0mapi\u001b[0m \u001b[0;34m=\u001b[0m \u001b[0moverpy\u001b[0m\u001b[0;34m.\u001b[0m\u001b[0mOverpass\u001b[0m\u001b[0;34m(\u001b[0m\u001b[0;34m)\u001b[0m\u001b[0;34m\u001b[0m\u001b[0;34m\u001b[0m\u001b[0m\n\u001b[1;32m      4\u001b[0m \u001b[0;34m\u001b[0m\u001b[0m\n\u001b[1;32m      5\u001b[0m \u001b[0;31m#test one: (37.87139, -122.27330, 37.87257, -122.27175)\u001b[0m\u001b[0;34m\u001b[0m\u001b[0;34m\u001b[0m\u001b[0;34m\u001b[0m\u001b[0m\n",
      "\u001b[0;31mModuleNotFoundError\u001b[0m: No module named 'overpy'"
     ]
    }
   ],
   "source": [
    "import overpy\n",
    "\n",
    "api = overpy.Overpass()\n",
    "\n",
    "#test one: (37.87139, -122.27330, 37.87257, -122.27175) \n",
    "\n",
    "result = api.query(\"\"\"\n",
    "    (\n",
    "    (\n",
    "      way(37.84369, -122.33657, 37.91079, -122.22803) [\"highway\"] [\"service\" != \"alley\"] [\"service\" != \"emergency_access\"] [\"service\" != \"drive-through\"] [\"service\" != \"slipway\"] [\"service\" != \"parking_aisle\"] [\"service\" != \"driveway\"] [\"highway\" != \"motorway\"] [\"highway\" != \"motorway_link\"] [\"highway\" != \"corridor\"] [\"highway\" != \"footway\"];\n",
    "      way(37.84369, -122.33657, 37.91079, -122.22803) [\"highway\" = \"footway\"] [\"footway\"];\n",
    "      way(37.84369, -122.33657, 37.91079, -122.22803) [\"highway\" = \"footway\"] [\"bicycle\"];\n",
    "      way(37.84369, -122.33657, 37.91079, -122.22803) [\"highway\" = \"footway\"] [\"foot\"];\n",
    "    ); - (\n",
    "      way(42213220);\n",
    "      way(42213222);\n",
    "      way(42213221);\n",
    "      way(42213224);\n",
    "    );\n",
    "    );\n",
    "      (._;>;);\n",
    "      out body;\n",
    "    \"\"\")\n",
    "\n",
    "wayFile = open(\"berkeleyWays.csv\", \"w\")\n",
    "wayFile.write(\"name,highway,node_ids\\n\")\n",
    "nodeFile = open(\"berkeleyNodes.csv\", \"w\")\n",
    "nodeFile.write(\"id,latitude,longitude\\n\")\n",
    "\n",
    "for way in result.ways:\n",
    "    way_name = way.tags.get(\"name\", \"n/a\")\n",
    "    highway_type = way.tags.get(\"highway\", \"n/a\")\n",
    "    wayFile.write(way_name + ',' + highway_type + ',')\n",
    "\n",
    "    node_ids = ''\n",
    "    for node in way.nodes:\n",
    "        node_ids = node_ids + str(node.id) + '-'\n",
    "    node_ids = node_ids[:-1]\n",
    "    wayFile.write(node_ids + '\\n')\n",
    "\n",
    "for node in result.nodes:\n",
    "    nodeFile.write(str(node.id) + ',')\n",
    "    print(f'{node.lat:.7f},{node.lon:.7f}', file=nodeFile)\n",
    "\n",
    "wayFile.close()\n",
    "nodeFile.close()\n"
   ]
  }
 ],
 "metadata": {
  "kernelspec": {
   "display_name": "Python 3",
   "language": "python",
   "name": "python3"
  },
  "language_info": {
   "codemirror_mode": {
    "name": "ipython",
    "version": 3
   },
   "file_extension": ".py",
   "mimetype": "text/x-python",
   "name": "python",
   "nbconvert_exporter": "python",
   "pygments_lexer": "ipython3",
   "version": "3.7.1"
  }
 },
 "nbformat": 4,
 "nbformat_minor": 2
}
