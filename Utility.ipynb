{
 "cells": [
  {
   "cell_type": "code",
   "execution_count": null,
   "id": "false-person",
   "metadata": {},
   "outputs": [],
   "source": [
    "import numpy as np\n",
    "import pandas as pd"
   ]
  },
  {
   "cell_type": "code",
   "execution_count": null,
   "id": "mechanical-facility",
   "metadata": {},
   "outputs": [],
   "source": [
    "edge_data = pd.read_csv('Edge_Data.csv', index_col = [0])"
   ]
  },
  {
   "cell_type": "code",
   "execution_count": null,
   "id": "instructional-luxury",
   "metadata": {},
   "outputs": [],
   "source": [
    "edge_length = len(edge_data)"
   ]
  },
  {
   "cell_type": "code",
   "execution_count": null,
   "id": "proper-holmes",
   "metadata": {},
   "outputs": [],
   "source": [
    "highways = set()\n",
    "\n",
    "for i in range(edge_length):\n",
    "    highways.add(edge_data.at[i, 'highway'])\n",
    "    \n",
    "print(highways)"
   ]
  },
  {
   "cell_type": "code",
   "execution_count": null,
   "id": "arabic-economy",
   "metadata": {},
   "outputs": [],
   "source": [
    "mx = 0\n",
    "\n",
    "for i in range(edge_length):\n",
    "    if mx < edge_data.at[i, 'light_count']:\n",
    "        mx = edge_data.at[i, 'light_count']\n",
    "\n",
    "print(mx)"
   ]
  },
  {
   "cell_type": "code",
   "execution_count": null,
   "id": "secret-puzzle",
   "metadata": {},
   "outputs": [],
   "source": [
    "mx = 0\n",
    "\n",
    "for i in range(edge_length):\n",
    "    if mx < edge_data.at[i, 'crime_count']:\n",
    "        mx = edge_data.at[i, 'crime_count']\n",
    "\n",
    "print(mx)"
   ]
  },
  {
   "cell_type": "code",
   "execution_count": null,
   "id": "threatened-general",
   "metadata": {},
   "outputs": [],
   "source": [
    "mx = 0\n",
    "\n",
    "for i in range(edge_length):\n",
    "    if mx < edge_data.at[i, 'crime_count']:\n",
    "        mx = edge_data.at[i, 'crime_count']\n",
    "\n",
    "print(mx)"
   ]
  },
  {
   "cell_type": "code",
   "execution_count": null,
   "id": "secure-belize",
   "metadata": {},
   "outputs": [],
   "source": [
    "edge_data = edge_data.sort_values(by = 'crime_count', ascending = False)\n",
    "\n",
    "display(edge_data)"
   ]
  },
  {
   "cell_type": "code",
   "execution_count": null,
   "id": "hourly-librarian",
   "metadata": {},
   "outputs": [],
   "source": [
    "edge_data = edge_data.sort_values(by = 'light_count', ascending = False)\n",
    "\n",
    "display(edge_data)"
   ]
  },
  {
   "cell_type": "code",
   "execution_count": null,
   "id": "finnish-tobago",
   "metadata": {},
   "outputs": [],
   "source": [
    "edge_data = edge_data.sort_values(by = 'distance', ascending = False)\n",
    "\n",
    "display(edge_data)"
   ]
  }
 ],
 "metadata": {
  "kernelspec": {
   "display_name": "Python 3 (ipykernel)",
   "language": "python",
   "name": "python3"
  },
  "language_info": {
   "codemirror_mode": {
    "name": "ipython",
    "version": 3
   },
   "file_extension": ".py",
   "mimetype": "text/x-python",
   "name": "python",
   "nbconvert_exporter": "python",
   "pygments_lexer": "ipython3",
   "version": "3.8.3"
  }
 },
 "nbformat": 4,
 "nbformat_minor": 5
}
