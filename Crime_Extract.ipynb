{
 "cells": [
  {
   "cell_type": "code",
   "execution_count": 33,
   "metadata": {},
   "outputs": [
    {
     "name": "stdout",
     "output_type": "stream",
     "text": [
      "2648\n",
      "30\n",
      "['THEFT FELONY (OVER $950)' 'THEFT MISD. (UNDER $950)' 'DISTURBANCE'\n",
      " 'ASSAULT/BATTERY MISD.' 'THEFT FROM AUTO' 'BURGLARY AUTO' 'ROBBERY'\n",
      " 'BURGLARY COMMERCIAL' 'VANDALISM' 'THEFT FROM PERSON' 'MISSING ADULT'\n",
      " 'VEHICLE STOLEN' 'FRAUD/FORGERY' 'BURGLARY RESIDENTIAL' 'ARSON'\n",
      " 'ALCOHOL OFFENSE' 'IDENTITY THEFT' 'BRANDISHING' 'DOMESTIC VIOLENCE'\n",
      " 'ASSAULT/BATTERY FEL.' 'NARCOTICS' 'DISTURBANCE - NOISE' 'GUN/WEAPON'\n",
      " 'SEXUAL ASSAULT FEL.' 'VEHICLE RECOVERED' 'SEXUAL ASSAULT MISD.'\n",
      " 'MUNICIPAL CODE' 'MISSING JUVENILE' 'KIDNAPPING' 'ASSAULT']\n"
     ]
    }
   ],
   "source": [
    "import pandas as pd\n",
    "import re\n",
    "\n",
    "# retain only the information we want, which for now includes longitude and latitude of Block_Location, and OFFENSE\n",
    "crime = pd.read_csv('crimes.csv')\n",
    "crime = crime[['Block_Location', 'OFFENSE']]\n",
    "pattern = '\\((.*)\\)'\n",
    "\n",
    "def extract_coords(given_string, split, lat_first = True):\n",
    "    s = re.search(pattern, given_string).group(1)\n",
    "    coords = s.split(split)\n",
    "    if lat_first:\n",
    "        return float(coords[0]), float(coords[1])\n",
    "    return float(coords[1]), float(coords[0])\n",
    "\n",
    "crime['Block_Location'] = crime['Block_Location'].apply(extract_coords, args = (', ', True))\n",
    "\n",
    "# out of curiosity, we inspect some interesting information\n",
    "print(len(crime))\n",
    "print(len(crime['OFFENSE'].unique()))\n",
    "print(crime['OFFENSE'].unique())\n",
    "\n",
    "# output data into array of json objects\n",
    "jsonArray = []\n",
    "\n",
    "for i in range(len(crime)): \n",
    "    loc = crime['Block_Location'][i]\n",
    "    crime_class = crime['OFFENSE'][i]\n",
    "    \n",
    "    obj = {\"longitude\": crime['Block_Location'][i][0],\n",
    "          \"latitude\": crime['Block_Location'][i][1]}\n",
    "    jsonArray.append(obj)\n",
    "\n",
    "with open(\"crime_points.json\", 'w', encoding='utf-8') as jsonf: \n",
    "    jsonString = json.dumps(jsonArray)\n",
    "    jsonf.write(jsonString)"
   ]
  }
 ],
 "metadata": {
  "kernelspec": {
   "display_name": "Python 3",
   "language": "python",
   "name": "python3"
  },
  "language_info": {
   "codemirror_mode": {
    "name": "ipython",
    "version": 3
   },
   "file_extension": ".py",
   "mimetype": "text/x-python",
   "name": "python",
   "nbconvert_exporter": "python",
   "pygments_lexer": "ipython3",
   "version": "3.7.1"
  }
 },
 "nbformat": 4,
 "nbformat_minor": 2
}
