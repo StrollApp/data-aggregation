{
 "cells": [
  {
   "cell_type": "code",
   "execution_count": null,
   "id": "fleet-livestock",
   "metadata": {},
   "outputs": [],
   "source": [
    "import numpy as np\n",
    "import pandas as pd"
   ]
  },
  {
   "cell_type": "code",
   "execution_count": null,
   "id": "related-warren",
   "metadata": {},
   "outputs": [],
   "source": [
    "edge_data = pd.read_csv('Edge_Data.csv', index_col = [0])\n",
    "node_data = pd.read_csv('Node_Data.csv', index_col = [0])"
   ]
  },
  {
   "cell_type": "code",
   "execution_count": null,
   "id": "clean-person",
   "metadata": {},
   "outputs": [],
   "source": [
    "node_data['id'] = node_data['id'].apply(int)\n",
    "node_data['latitude'] = node_data['latitude'].apply(float)\n",
    "node_data['longitude'] = node_data['longitude'].apply(float)\n",
    "\n",
    "edge_data['start_id'] = edge_data['start_id'].apply(int)\n",
    "edge_data['end_id'] = edge_data['end_id'].apply(int)"
   ]
  },
  {
   "cell_type": "code",
   "execution_count": null,
   "id": "secure-flesh",
   "metadata": {
    "scrolled": false
   },
   "outputs": [],
   "source": [
    "node_set = set(node_data['id'].tolist()) # set of all non-redundant nodes\n",
    "node_id_to_index = {} # maps node id to index of csv file\n",
    "node_adj = {} # all edges incident to a node\n",
    "\n",
    "for index, row in node_data.iterrows():\n",
    "    node_id_to_index[int(row['id'])] = index\n",
    "    \n",
    "for index, row in node_data.iterrows():\n",
    "    string_of_edges = row['adjacencies']\n",
    "    list_of_edges = string_of_edges.split('-')\n",
    "    list_of_edges_int = [int(b) for b in list_of_edges]\n",
    "    node_adj[int(row['id'])] = set(list_of_edges_int)\n",
    "\n",
    "display(node_data)\n",
    "display(edge_data)"
   ]
  },
  {
   "cell_type": "code",
   "execution_count": null,
   "id": "civilian-diesel",
   "metadata": {},
   "outputs": [],
   "source": [
    "# finds distance between c = (x3, y3) to line defined by a = (x1, y1) and b = (x2, y2)\n",
    "def get_distance_btwn_point_and_line(x1, y1, x2, y2, x3, y3):\n",
    "    p1 = np.array([x1, y1])\n",
    "    p2 = np.array([x2, y2])\n",
    "    p3 = np.array([x3, y3])\n",
    "    ab = p2 - p1\n",
    "    ba = p1 - p2\n",
    "    ac = p3 - p1\n",
    "    bc = p3 - p2\n",
    "    bac = np.dot(ab, ac)\n",
    "    cba = np.dot(ba, bc)\n",
    "    if bac < 0 and cba < 0:\n",
    "        return None\n",
    "    elif bac < 0:\n",
    "        return ac[0] * ac[0] + ac[1] * ac[1]\n",
    "    elif cba < 0:\n",
    "        return bc[0] * bc[0] + bc[1] * bc[1]\n",
    "    cross_product = np.cross(ab, ac)\n",
    "    return cross_product * cross_product / (ab[0] * ab[0] + ab[1] * ab[1])"
   ]
  },
  {
   "cell_type": "code",
   "execution_count": null,
   "id": "sapphire-advisory",
   "metadata": {},
   "outputs": [],
   "source": [
    "# gets street segment indices for a latitude and longitude\n",
    "\n",
    "index_list = edge_data.index.tolist()\n",
    "start_ids = edge_data['start_id'].tolist()\n",
    "end_ids = edge_data['end_id'].tolist()\n",
    "start_indices = [node_id_to_index[b] for b in start_ids]\n",
    "end_indices = [node_id_to_index[b] for b in end_ids]\n",
    "start_latitudes = [node_data.at[start_index, 'latitude'] for start_index in start_indices]\n",
    "start_longitudes = [node_data.at[start_index, 'longitude'] for start_index in start_indices]\n",
    "end_latitudes = [node_data.at[end_index, 'latitude'] for end_index in end_indices]\n",
    "end_longitudes = [node_data.at[end_index, 'longitude'] for end_index in end_indices]\n",
    "\n",
    "# gets the street segment closest to the latitude and longitude of a given point\n",
    "# current implementation will assume streets are straight lines and the earth is flat\n",
    "# also current implementation goes through all edges which is slow, implement regions in the future\n",
    "# REQUIRES intersections to have coordinates\n",
    "def get_block(latitude, longitude):\n",
    "    min_distance = float('inf')\n",
    "    min_street_index = -1\n",
    "    for index, start_latitude, start_longitude, end_latitude, end_longitude in zip(index_list, start_latitudes, start_longitudes, end_latitudes, end_longitudes):\n",
    "        current_distance = get_distance_btwn_point_and_line(\n",
    "            start_latitude, start_longitude, end_latitude, end_longitude, latitude, longitude)\n",
    "        if current_distance < min_distance:\n",
    "            min_distance = current_distance\n",
    "            min_street_index = index\n",
    "    return min_street_index\n",
    "\n",
    "# gets the k closest segments to the given point\n",
    "# REQUIRES intersections to have coordinates\n",
    "def get_closest_blocks(latitude, longitude, k):\n",
    "    print(counter[0])\n",
    "    counter[0] += 1\n",
    "    pq = [(get_distance_btwn_point_and_line(\n",
    "        start_latitude, start_longitude, end_latitude, end_longitude, latitude, longitude), index) \n",
    "          for index, start_latitude, start_longitude, end_latitude, end_longitude \n",
    "          in zip(index_list, start_latitudes, start_longitudes, end_latitudes, end_longitudes)]\n",
    "    pq.sort()\n",
    "    closest = [pq[i][1] for i in range(k)]\n",
    "    return closest"
   ]
  },
  {
   "cell_type": "code",
   "execution_count": null,
   "id": "level-financing",
   "metadata": {},
   "outputs": [],
   "source": [
    "# increments the value of parameter at the k street segments closest to location\n",
    "def set_zero(parameter):\n",
    "    edge_data[parameter] = [0 for b in range(len(edge_data))]\n",
    "\n",
    "def update_street_data(latitude, longitude, parameter, k = 1):\n",
    "    if k == 1:\n",
    "        index = get_block(latitude, longitude)\n",
    "        if edge_data.at[index, parameter] is None:\n",
    "            edge_data.at[index, parameter] = 0\n",
    "        edge_data.at[index, parameter] += 1\n",
    "    else:\n",
    "        index = get_closest_blocks(latitude, longitude, k)\n",
    "        if index:\n",
    "            for block in index:\n",
    "                if edge_data.at[block, parameter] is None:\n",
    "                    edge_data.at[block, parameter] = 0\n",
    "                edge_data.at[block, parameter] += 1\n",
    "                \n",
    "def update_street_data_coords(coords, parameter, k = 1):\n",
    "    if k == 1:\n",
    "        index = get_block(coords[0], coords[1])\n",
    "        edge_data.at[index, parameter] += 1\n",
    "    else:\n",
    "        index = get_closest_blocks(coords[0], coords[1], k)\n",
    "        for block in index:\n",
    "            edge_data.at[block, parameter] += 1"
   ]
  },
  {
   "cell_type": "code",
   "execution_count": null,
   "id": "thorough-trash",
   "metadata": {},
   "outputs": [],
   "source": [
    "import re\n",
    "\n",
    "pattern = '\\((.*)\\)'\n",
    "\n",
    "def extract_coords(given_string, split, lat_first = True):\n",
    "    s = re.search(pattern, given_string).group(1)\n",
    "    coords = s.split(split)\n",
    "    if lat_first:\n",
    "        return float(coords[0]), float(coords[1])\n",
    "    return float(coords[1]), float(coords[0])"
   ]
  },
  {
   "cell_type": "code",
   "execution_count": null,
   "id": "seven-tract",
   "metadata": {},
   "outputs": [],
   "source": [
    "node_data.to_csv('Node_Data.csv')\n",
    "edge_data.to_csv('Edge_Data.csv')"
   ]
  },
  {
   "cell_type": "code",
   "execution_count": null,
   "id": "skilled-decade",
   "metadata": {},
   "outputs": [],
   "source": []
  }
 ],
 "metadata": {
  "kernelspec": {
   "display_name": "Python 3 (ipykernel)",
   "language": "python",
   "name": "python3"
  },
  "language_info": {
   "codemirror_mode": {
    "name": "ipython",
    "version": 3
   },
   "file_extension": ".py",
   "mimetype": "text/x-python",
   "name": "python",
   "nbconvert_exporter": "python",
   "pygments_lexer": "ipython3",
   "version": "3.8.3"
  }
 },
 "nbformat": 4,
 "nbformat_minor": 5
}
